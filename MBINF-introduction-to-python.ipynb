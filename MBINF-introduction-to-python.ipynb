{
 "cells": [
  {
   "attachments": {},
   "cell_type": "markdown",
   "metadata": {},
   "source": [
    "# University of Guelph MBINF 2024 - Introduction to Python Workshop\n",
    "\n",
    "Hello Guelph MBINF Program 2024! Today we will introduce Python for bioinformatics. This workshop is designed to gently introduce Python programming concepts used in bioinformatics, then apply them to do some real-world science with biological data. \n",
    "\n",
    "---"
   ]
  },
  {
   "cell_type": "markdown",
   "metadata": {},
   "source": [
    "## Part 1. Introduction to Python\n",
    "- Why use Python for Bioinformatics?\n",
    "- Fundamentals of Python programming\n",
    "    - Data types: strings, integers, floats, booleans\n",
    "    - Data structures: lists, dictionaries\n",
    "    - Conditional statements, loops, and comprehensions\n",
    "    - Functions \n",
    "    - Installing and importing modules\n",
    "---"
   ]
  },
  {
   "cell_type": "markdown",
   "metadata": {},
   "source": [
    "### Why use Python for Bioinformatics?\n",
    "\n",
    "<img src=\"images/python_usage.png\" alt = \"python usage\">\n",
    "\n",
    "\n",
    "Learning Python for bioinformatics offers numerous advantages for students in the field. There are many reasons why a bioinformatician would benifit from investing in learning Python:  \n",
    "\n",
    "1. **Versatile Language:** Python is a versatile programming language that is widely used in bioinformatics due to its simplicity and readability. It's an excellent choice for beginners and experienced programmers alike. Most bioinformaticians are introduced to programming through a scripting language like R. While Python can also be used for scripting (ie using Jupyter notebooks), it can also be used in many other use cases such as creating full production applications and APIs.   \n",
    "\n",
    "2. **Rich Libraries and Modules:** Python has a vast ecosystem of libraries and modules specifically designed for bioinformatics tasks. These libraries, such as Biopython and scikit-learn, provide pre-built functions and tools for tasks like sequence analysis, data manipulation, and statistical analysis.\n",
    "\n",
    "3. **Data Manipulation and Analysis:** Python's data manipulation capabilities make it well-suited for handling large datasets commonly found in bioinformatics. It provides tools for data cleaning, transformation, and statistical analysis, enabling researchers to draw meaningful insights from biological data. Manipulating data in most commonly used Python tabular data package, Pandas, is significatly faster than using dataframes in R. \n",
    "\n",
    "4. **Sequence Analysis:** Python's string manipulation capabilities are invaluable for sequence analysis tasks, such as DNA, RNA, and protein sequence alignment, motif searching, and mutation analysis.\n",
    "\n",
    "5. **Visualization:** Python offers a variety of libraries, such as Matplotlib and Seaborn (easy interface for Matplotlib), that allow bioinformaticians to create informative and visually appealing plots and graphs to present their findings effectively.\n",
    "\n",
    "6. **Machine Learning and AI:** Bioinformatics often involves analyzing complex biological data, and Python's integration with machine learning and artificial intelligence libraries allows students to apply advanced algorithms for tasks like classification, clustering, and prediction. The world of biological data science requires knowledge of ML workflows that are highly developed in Python. \n",
    "\n",
    "10. **Scripting and Automation:** Python is well-suited for automating repetitive tasks, which is a common need in bioinformatics. Bioinformaticians can create scripts and workflows to process data, perform analyses, and generate reports, saving time and reducing human error. The ability to natively launch cloud-based workflows will take your bioinformatics to the next level. \n",
    "\n",
    "10. **Job Opportunities:** Bioinformatics is a rapidly growing field, and proficiency in Python is often a prerequisite for job positions in academia, pharmaceuticals, biotechnology, and healthcare industries. Learning Python can enhance a student's employability and career prospects. There are many flavours of bioinformatics including bioinformatics engineers (akin to a software engineer for biological data), data engineer, and data scientist. For each, industry hiring managers are increasingly looking for solid Python skills. \n",
    "\n",
    "In summary, learning Python **empowers** bioinformaticians to efficiently analyze biological data, perform complex computations, and develop innovative solutions to challenges in the field. Its user-friendly syntax, extensive libraries, and broad applications make it an essential tool for any aspiring bioinformatician.\n"
   ]
  },
  {
   "cell_type": "markdown",
   "metadata": {},
   "source": [
    "**Exercises:** \n",
    "\n",
    "<div style=\"background-color: black; padding: 15px;\">\n",
    "\n",
    "> Exercise 1: Discuss what bioinformatics skills you think will be valuable to learn for your career.\n",
    "\n",
    "> Exercise 2: Discuss when would you use Python versus other languages (ie C, R, JavaScript).\n",
    "\n",
    "</div>\n",
    "\n",
    "---"
   ]
  },
  {
   "cell_type": "markdown",
   "metadata": {},
   "source": [
    "## Fundamentals of Python programming"
   ]
  },
  {
   "cell_type": "markdown",
   "metadata": {},
   "source": [
    "### Data types: strings, integers, floats, booleans"
   ]
  },
  {
   "cell_type": "markdown",
   "metadata": {},
   "source": [
    "\n",
    "**Strings**\n",
    "\n",
    "In Python, a string is a sequence of **characters** enclosed within either single quotes (' ') or double quotes (\" \"). Strings are used to represent textual data and can contain letters, numbers, symbols, and spaces. Here's how you can define a string in Python:\n",
    "\n",
    "In Python strings use the type hint `str`."
   ]
  },
  {
   "cell_type": "code",
   "execution_count": null,
   "metadata": {},
   "outputs": [],
   "source": [
    "\"this is a string with double quotes\"\n",
    "\n",
    "'this is a string with single quotes'"
   ]
  },
  {
   "cell_type": "markdown",
   "metadata": {},
   "source": [
    "**Integers**\n",
    "\n",
    "An integer is a whole number (without decimals). Here's how you can define an integer in Python:\n",
    "\n",
    "In Python integers use the type hint `int`."
   ]
  },
  {
   "cell_type": "code",
   "execution_count": null,
   "metadata": {},
   "outputs": [],
   "source": [
    "11\n",
    "\n",
    "1e9"
   ]
  },
  {
   "cell_type": "markdown",
   "metadata": {},
   "source": [
    "**Floats**\n",
    "\n",
    "In Python, a float is a data type used to represent floating-point numbers, which include both whole numbers and fractions. Floating-point numbers are used to represent real numbers, including those with decimal points. Here's how you can define a float in Python:\n",
    "\n",
    "In Python floats use the type hint `float`."
   ]
  },
  {
   "cell_type": "code",
   "execution_count": null,
   "metadata": {},
   "outputs": [],
   "source": [
    "3.14\n",
    "\n",
    "1000000.0"
   ]
  },
  {
   "cell_type": "markdown",
   "metadata": {},
   "source": [
    "**Booleans**\n",
    "\n",
    "A boolean is a data type that represents a binary value, typically indicating either `true` or `false`. Booleans are used in logical operations, conditional statements, and comparisons. The two possible boolean values are `True` and `False`. Here's how you can define a boolean in Python:\n",
    "\n",
    "In Python floats use the type hint `bool`."
   ]
  },
  {
   "cell_type": "code",
   "execution_count": null,
   "metadata": {},
   "outputs": [],
   "source": [
    "True\n",
    "\n",
    "False"
   ]
  },
  {
   "cell_type": "markdown",
   "metadata": {},
   "source": [
    "**Variables**\n",
    "\n",
    "A variable is a name that you can use to refer to a value or an object in memory. Variables allow you to store and manipulate data in your programs. To define a variable in Python, you need to provide a name for the variable and assign a value to it using the assignment operator `=`. Here's the general syntax:"
   ]
  },
  {
   "cell_type": "code",
   "execution_count": null,
   "metadata": {},
   "outputs": [],
   "source": [
    "name = \"Alice\" \n",
    "\n",
    "age = 28\n",
    "\n",
    "grade = 91.5\n",
    "\n",
    "graduated = False"
   ]
  },
  {
   "cell_type": "markdown",
   "metadata": {},
   "source": [
    "Variable names in Python must follow these rules:\n",
    "- They can contain letters, numbers, and underscores.\n",
    "- They must start with a letter (a-z, A-Z) or an underscore (_).\n",
    "- They are case-sensitive (e.g., my_variable and My_Variable are different variables).\n",
    "- They cannot be a reserved keyword (e.g., if, while, for, etc.).\n",
    "- They should be descriptive and follow a readable naming convention (e.g., user_name instead of u)."
   ]
  },
  {
   "cell_type": "markdown",
   "metadata": {},
   "source": [
    "**Type Hints**\n",
    "\n",
    "Python is a **dynamically typed** language. Dynamically typed refers to a programming language feature where variable **types** (string, boolean, integer, float, etc.) are determined at runtime rather than being explicitly declared during variable definition. In dynamically typed languages, you can change the type of a variable simply by assigning a value of a different type to it, and the language's runtime system handles the necessary type conversions. Other languages like C, Java or TypeScript are  **statically typed**, meaning the type must be declared before using a variable. \n",
    "\n",
    "However, it is a good practice (and growing requirement in industry) that you provide `type hints` when using Python. These dramatically reduce bugs in your code and make it more readable. Type hints in Python use a colon (`:`) after the variable name and before the equals sign to signify the type of a variable. Examples of a type hint in Python include: \n",
    "\n",
    "For more information, checkout Software Carpentry's page on [Data Types](http://swcarpentry.github.io/python-novice-gapminder/03-types-conversion.html). "
   ]
  },
  {
   "cell_type": "code",
   "execution_count": null,
   "metadata": {},
   "outputs": [],
   "source": [
    "string_variable: str = \"this is a string\"\n",
    "\n",
    "number: int = 111"
   ]
  },
  {
   "cell_type": "markdown",
   "metadata": {},
   "source": [
    "**Exercises:** \n",
    "\n",
    "> Exercise 3: In a new cell below, create variables that store a string, integer, float, and boolean. If you need to create a new cell, select the `+ Code` button in Notebook.\n",
    "\n",
    "> Exercise 4: Add type hints to the variables provided in the example above and to the variables created in Excercise 3. \n",
    "\n",
    "> Exercise 5: Use the `print()` function to print your variables to the screen. "
   ]
  },
  {
   "cell_type": "code",
   "execution_count": null,
   "metadata": {},
   "outputs": [],
   "source": []
  },
  {
   "cell_type": "markdown",
   "metadata": {},
   "source": [
    "**A note about string formatting**\n",
    "\n",
    "It is useful to be able to include variables inside strings. There are multiple ways to do this. The most Pythonic method is currently to use `f-strings`, which have the built-in ability to cast other variable types to strings! Use an `f` at the beginning of the string (before the quotation marks), and curly brackets (`{}`) inside the string to insert a variable into a string: "
   ]
  },
  {
   "cell_type": "code",
   "execution_count": null,
   "metadata": {},
   "outputs": [],
   "source": [
    "number_of_cats: int = 17\n",
    "\n",
    "print(f\"Wow, he has {number_of_cats} cats in his dorm room!\")"
   ]
  },
  {
   "cell_type": "markdown",
   "metadata": {},
   "source": [
    "### Data structures: lists, dictionaries"
   ]
  },
  {
   "cell_type": "markdown",
   "metadata": {},
   "source": [
    "**Lists**\n",
    "\n",
    "A list is a built-in Python data structure that allows you to store and manage a collection of items. Lists are ordered, mutable (meaning you can change their contents after creation), and can contain elements of different data types. Each element in a list is assigned an index, starting from 0 for the first element. Lists are defined using square brackets `[]`. Here's how you can define a list in Python:\n",
    "\n",
    "Lists use the type hint `list`. You can also type-hint the expected context of a list with square brackets: `list[str]` or `list[int]`. "
   ]
  },
  {
   "cell_type": "code",
   "execution_count": null,
   "metadata": {},
   "outputs": [],
   "source": [
    "my_list = [1, 2, 3, 4, 5]"
   ]
  },
  {
   "cell_type": "markdown",
   "metadata": {},
   "source": [
    "Items in a list can be accessed by index. Note that Python uses zero (`0`) as the first index. To retrieve items by index, use the following notation: \n",
    "\n",
    "You can modify elements in a list using the index:"
   ]
  },
  {
   "cell_type": "code",
   "execution_count": null,
   "metadata": {},
   "outputs": [],
   "source": [
    "first_element = my_list[0]  # Retrieves the first element (1)\n",
    "second_element = my_list[1] # Retrieves the second element (2)\n",
    "\n",
    "my_list[2] = 10  # Changes the third element from 3 to 10"
   ]
  },
  {
   "cell_type": "markdown",
   "metadata": {},
   "source": [
    "You can subset lists using a range of indices seperated by a colon (`:`)"
   ]
  },
  {
   "cell_type": "code",
   "execution_count": null,
   "metadata": {},
   "outputs": [],
   "source": [
    "subset = my_list[1:4]     # Retrieves elements from index 1 to 3 (inclusive)"
   ]
  },
  {
   "cell_type": "markdown",
   "metadata": {},
   "source": [
    "Common list operations include adding (appending) or removing items from a list: "
   ]
  },
  {
   "cell_type": "code",
   "execution_count": null,
   "metadata": {},
   "outputs": [],
   "source": [
    "my_list.append(6)         # Adds 6 to the end of the list\n",
    "my_list.remove(4)         # Removes the element 4 from the list"
   ]
  },
  {
   "cell_type": "markdown",
   "metadata": {},
   "source": [
    "**Exercises:** \n",
    "\n",
    "> Exercise 6: In a new cell below, create a variable storing a list containing at least 4 elements of any type. \n",
    "\n",
    "> Exercise 7: Access the 1st element in the list using its index inside a square bracket. Is it the item you expected? If not why? \n",
    "\n",
    "---"
   ]
  },
  {
   "cell_type": "code",
   "execution_count": null,
   "metadata": {},
   "outputs": [],
   "source": []
  },
  {
   "cell_type": "markdown",
   "metadata": {},
   "source": [
    "**Dictionaries**"
   ]
  },
  {
   "cell_type": "markdown",
   "metadata": {},
   "source": [
    "In Python, a dictionary (dict) is a built-in data structure that allows you to store and manage collections of **key-value pairs.** Each key in a dictionary is unique and maps to a specific value. They are defined using curly braces {} and a series of key-value pairs separated by colons. \n",
    "\n",
    "Dictionaries offer fast and efficient look-up times based on their keys, making them suitable for scenarios where you need to quickly access and manipulate data based on unique identifiers (keys). \n",
    "\n",
    "Here's how you can define a dictionary in Python:"
   ]
  },
  {
   "cell_type": "code",
   "execution_count": null,
   "metadata": {},
   "outputs": [],
   "source": [
    "my_dict = {\"name\": \"Alice\", \"age\": 30, \"is_student\": False}"
   ]
  },
  {
   "cell_type": "markdown",
   "metadata": {},
   "source": [
    "You can access values in a dictionary using their keys:"
   ]
  },
  {
   "cell_type": "code",
   "execution_count": null,
   "metadata": {},
   "outputs": [],
   "source": [
    "name = my_dict[\"name\"]       # Retrieves the value associated with the key \"name\"\n",
    "age = my_dict[\"age\"]         # Retrieves the value associated with the key \"age\""
   ]
  },
  {
   "cell_type": "markdown",
   "metadata": {},
   "source": [
    "You can also modify values and add new key-value pairs to a dictionary:"
   ]
  },
  {
   "cell_type": "code",
   "execution_count": null,
   "metadata": {},
   "outputs": [],
   "source": [
    "my_dict[\"age\"] = 31         # Changes the value associated with the key \"age\" to 31\n",
    "my_dict[\"city\"] = \"New York\"  # Adds a new key-value pair \"city\": \"New York\" to the dictionary"
   ]
  },
  {
   "cell_type": "markdown",
   "metadata": {},
   "source": [
    "Dictionaries use the type hint `dict`. You can specify the types of the dictionary keys and values seperately using square bracket notation: `dict[str, int]`. It is common to use string keys with any type of value. To type hint this you can use:"
   ]
  },
  {
   "cell_type": "code",
   "execution_count": null,
   "metadata": {},
   "outputs": [],
   "source": [
    "from typing import Any\n",
    "\n",
    "dict[str, Any]"
   ]
  },
  {
   "cell_type": "markdown",
   "metadata": {},
   "source": [
    "(Imports will be coverted later in the workshop)"
   ]
  },
  {
   "cell_type": "markdown",
   "metadata": {},
   "source": [
    "**Exercises:** \n",
    "\n",
    "> Exercise 8: Building a Basic Contact List\n",
    "\n",
    "Imagine you're building a simple contact list program using dictionaries. Each contact will have a name as the key and a phone number as the value. In a new code block below, you will perform various operations on this contact list.\n",
    "\n",
    "1. Initialize an empty list called `contact_list`.\n",
    "\n",
    "2. Add at least three contacts as dictionaries to the `contact_list` dictionary. Each contact should have a name as the key and a phone number as the value.\n",
    "\n",
    "3. Print the entire `contact_list` dictionary.\n",
    "\n",
    "Here's a starting point for the exercise:\n"
   ]
  },
  {
   "cell_type": "code",
   "execution_count": null,
   "metadata": {},
   "outputs": [],
   "source": [
    "contact_list: list[dict] = []\n"
   ]
  },
  {
   "cell_type": "markdown",
   "metadata": {},
   "source": [
    "### Conditional statements, loops, and comprehensions\n"
   ]
  },
  {
   "cell_type": "markdown",
   "metadata": {},
   "source": [
    "**Conditional Statements**\n",
    "\n",
    "Conditional statements are an essential part of programming that allow you to make decisions and control the flow of your code based on certain conditions. In Python, you can use the `if`, `elif` (short for \"else if\"), and `else` statements to create conditional logic.\n",
    "\n",
    "When writing a conditional statement the structure is important! After your write the condition to evaluate it must be followed by a colon (`:`). The next block that operates on condition being `True` must be indented. \n",
    "\n",
    "Here's an introduction to conditional statements in Python:\n",
    "\n",
    "**The if statement:**\n",
    "\n",
    "The if statement is used to execute a block of code if a certain condition is true. If the condition is `False`, the block of code is skipped."
   ]
  },
  {
   "cell_type": "code",
   "execution_count": null,
   "metadata": {},
   "outputs": [],
   "source": [
    "x: int = 10\n",
    "\n",
    "if x > 5:\n",
    "    print(\"x is greater than 5\")"
   ]
  },
  {
   "cell_type": "markdown",
   "metadata": {},
   "source": [
    "**The else statement:**\n",
    "\n",
    "The else statement is used to define a block of code that will be executed if the condition of the preceding if statement is `False`."
   ]
  },
  {
   "cell_type": "code",
   "execution_count": null,
   "metadata": {},
   "outputs": [],
   "source": [
    "x: int = 3\n",
    "\n",
    "if x > 5:\n",
    "    print(\"x is greater than 5\")\n",
    "else:\n",
    "    print(\"x is not greater than 5\")"
   ]
  },
  {
   "cell_type": "markdown",
   "metadata": {},
   "source": [
    "**The elif statement:**\n",
    "\n",
    "The elif statement allows you to check additional conditions after the initial if statement. It's used when you want to check multiple possibilities."
   ]
  },
  {
   "cell_type": "code",
   "execution_count": null,
   "metadata": {},
   "outputs": [],
   "source": [
    "x: int = 7\n",
    "\n",
    "if x > 10:\n",
    "    print(\"x is greater than 10\")\n",
    "elif x > 5:\n",
    "    print(\"x is greater than 5 but not greater than 10\")\n",
    "else:\n",
    "    print(\"x is not greater than 5\")\n"
   ]
  },
  {
   "cell_type": "markdown",
   "metadata": {},
   "source": [
    "There are many ways to use flow control in your code -- anything that can evaluate to `True` or `False` can be used to in a conditional statement! \n",
    "\n",
    "Here is a nonsense example: "
   ]
  },
  {
   "cell_type": "code",
   "execution_count": null,
   "metadata": {},
   "outputs": [],
   "source": [
    "name: str = \"Jeff\" \n",
    "\n",
    "if name == \"David\":\n",
    "    print(\"Hello David!\")\n",
    "\n",
    "elif name in \"Jeffery\":\n",
    "    print(f\"What's up {name}!\")\n",
    "\n",
    "elif (len(name) > 6):\n",
    "    print(f\"Your name is long {name}!\")\n",
    "\n",
    "else:\n",
    "    print(f\"Yoooooooo {name}!\")"
   ]
  },
  {
   "cell_type": "markdown",
   "metadata": {},
   "source": [
    "**Exercises:** \n",
    "\n",
    "> Exercise 9: Assign a random number **between 1 and 100** to a variable. Evaluate if it is greater than, less than, or equal to 50. How many conditional statements do you need? \n",
    "\n",
    "Hint: a random number (in this example, between 1 and 10) can be generated using: "
   ]
  },
  {
   "cell_type": "code",
   "execution_count": null,
   "metadata": {},
   "outputs": [],
   "source": [
    "import random\n",
    "\n",
    "random.randint(1, 10)  # Generates a random integer between 1 and 10"
   ]
  },
  {
   "cell_type": "markdown",
   "metadata": {},
   "source": [
    "(did you type hint your variable assignment?)"
   ]
  },
  {
   "cell_type": "markdown",
   "metadata": {},
   "source": [
    "**Loops**\n",
    "\n",
    "In Python, loops are used to execute a block of code repeatedly. There are two main types of loops: for loops and while loops. We will only use for loops in this workshop. \n",
    "\n",
    "**For Loops:**\n",
    "\n",
    "for loops are used to iterate over an **iterable** sequence (such as a list, tuple, string, etc.) and perform a certain action for each element in the sequence.\n",
    "\n",
    "Example:"
   ]
  },
  {
   "cell_type": "code",
   "execution_count": null,
   "metadata": {},
   "outputs": [],
   "source": [
    "fruits: list[str] = [\"apple\", \"banana\", \"cherry\"]\n",
    "for fruit in fruits:\n",
    "    print(fruit)"
   ]
  },
  {
   "cell_type": "markdown",
   "metadata": {},
   "source": [
    "**While Loops:**\n",
    "\n",
    "While loops are used to repeatedly execute a block of code as long as a specified condition evaluates to `True`. \n",
    "\n",
    "Example:"
   ]
  },
  {
   "cell_type": "code",
   "execution_count": null,
   "metadata": {},
   "outputs": [],
   "source": [
    "count = 0\n",
    "while count < 5:\n",
    "    print(\"Count:\", count)\n",
    "    count += 1 "
   ]
  },
  {
   "cell_type": "markdown",
   "metadata": {},
   "source": [
    "**Exercises:** \n",
    "\n",
    "> Exercise 10: In a cell below, write a program that calculates the sum of all numbers from 1 to 10 using a for loop.\n",
    "\n",
    "hint: `range(1, 11)` produces an ordered list of integers between 1 to 10. "
   ]
  },
  {
   "cell_type": "code",
   "execution_count": null,
   "metadata": {},
   "outputs": [],
   "source": []
  },
  {
   "cell_type": "markdown",
   "metadata": {},
   "source": [
    "**Comprehensions**\n",
    "\n",
    "Comprehensions are one of the most useful tools in Python for keeping your code compact and clear. \n",
    "\n",
    "List comprehension is a concise and powerful way to create lists in Python. It allows you to create a new list by applying an expression to each item in an existing iterable (like a list, tuple, or range) while also filtering elements based on a condition. List comprehensions are a more compact alternative to using traditional for loops to generate lists.\n",
    "\n",
    "Here's a basic introduction to list comprehensions:\n",
    "\n",
    "Syntax:\n",
    "\n",
    "```python\n",
    "new_list = [expression for item in iterable if condition]\n",
    "```\n",
    "\n",
    "Where:\n",
    "expression: The operation you want to perform on each item.\n",
    "item: Represents each element in the iterable.\n",
    "iterable: The collection you want to iterate over.\n",
    "condition (optional): A condition that filters which elements are included in the new list.\n",
    "\n",
    "Example:"
   ]
  },
  {
   "cell_type": "code",
   "execution_count": null,
   "metadata": {},
   "outputs": [],
   "source": [
    "numbers = [1, 2, 3, 4, 5]\n",
    "even_numbers = [x for x in numbers if x % 2 == 0]\n",
    "divided_even_numbers = [x/2 for x in even_numbers]"
   ]
  },
  {
   "cell_type": "markdown",
   "metadata": {},
   "source": [
    "**Exercises:** \n",
    "\n",
    "> Exercise 11: Generating Even Squares\n",
    "\n",
    "In a cell below:\n",
    "1. Create a list of numbers from 1 to 10 using the range() function.\n",
    "\n",
    "2. Use a list comprehension to generate a new list containing the squares of even numbers from the list you created in step 1.\n",
    "\n",
    "3. Print the original list and the new list of squared even numbers.\n",
    "\n",
    "Here's a starting point for the exercise:"
   ]
  },
  {
   "cell_type": "code",
   "execution_count": null,
   "metadata": {},
   "outputs": [],
   "source": [
    "# Step 1: Create a list of numbers from 1 to 10 using range()\n",
    "numbers = list(range(1, 11))\n",
    "\n",
    "# Step 2: Use a list comprehension to generate squared even numbers\n",
    "\n",
    "# Step 3: Print the original list and the new list of squared even numbers"
   ]
  },
  {
   "cell_type": "markdown",
   "metadata": {},
   "source": [
    "### Functions"
   ]
  },
  {
   "cell_type": "markdown",
   "metadata": {},
   "source": [
    "In Python, a function is a reusable block of code that performs a specific task. Functions are a fundamental concept in programming because they allow you to break down your code into smaller, manageable pieces, which makes your code more organized, modular, and easier to maintain.\n",
    "\n",
    "Here's an introduction to functions in Python:\n",
    "\n",
    "Function Definition:\n",
    "In Python, you can define a function using the following parts:\n",
    "- the `def` keyword followed by the function name \n",
    "- parameters (if any) inside parentheses\n",
    "- a colon indicating the end of the function definition line\n",
    "- an indented block of code that makes up the function's body. \n",
    "- an optional return call to return objects from the function into the main body of your code. \n",
    "\n",
    "Return Statement:\n",
    "\n",
    "Functions can use the return statement to send a value back to the caller. This value can then be assigned to a variable or used in further calculations.\n",
    "\n",
    "Function Parameters:\n",
    "\n",
    "Functions can take parameters, which are placeholders for values that you pass when you call the function. Parameters allow you to customize the behavior of the function for different inputs.\n",
    "\n",
    "The syntax is as follows:\n",
    "\n",
    "```python\n",
    "def function_name(parameters):\n",
    "    # Function body\n",
    "    # Code to perform the desired task\n",
    "    return result  # Optional\n",
    "```\n",
    "\n",
    "Example:\n",
    "\n",
    "Here's a simple example of a function that calculates the square of a number:"
   ]
  },
  {
   "cell_type": "code",
   "execution_count": null,
   "metadata": {},
   "outputs": [],
   "source": [
    "def square(x):\n",
    "    return x ** 2"
   ]
  },
  {
   "cell_type": "markdown",
   "metadata": {},
   "source": [
    "**Calling a Function:**\n",
    "\n",
    "To use a function, you \"call\" it by using its name followed by parentheses. If the function takes parameters, you provide the values for those parameters within the parentheses. The result of the function can be assigned to a variable or used directly."
   ]
  },
  {
   "cell_type": "code",
   "execution_count": null,
   "metadata": {},
   "outputs": [],
   "source": [
    "result = square(5) # Calling the 'square' function with parameter 5\n",
    "print(result) # Prints 25"
   ]
  },
  {
   "cell_type": "markdown",
   "metadata": {},
   "source": [
    "Advanced function definitions additionally include: \n",
    "- type hints for the parameters defined using a colon (`:`),\n",
    "- default values defined using an equals sign (`=`),\n",
    "- type hints for return values defined using an arrow (`->`),\n",
    "- a `docstring` between triple quotation marks (`\"\"\"`). Docstrings allow you to document your code. \n",
    "\n",
    "An example is provided below: "
   ]
  },
  {
   "cell_type": "code",
   "execution_count": null,
   "metadata": {},
   "outputs": [],
   "source": [
    "def greet(name: str, greeting: str = \"Hello\") -> str:\n",
    "    \"\"\"\n",
    "    Generates a personalized greeting.\n",
    "\n",
    "    Parameters:\n",
    "    name (str): The name of the person to greet.\n",
    "    greeting (str): The greeting message (default is \"Hello\").\n",
    "\n",
    "    Returns:\n",
    "    str: The personalized greeting message.\n",
    "    \"\"\"\n",
    "    return f\"{greeting}, {name}!\"\n",
    "\n",
    "# Calling the function with both parameters provided\n",
    "result1 = greet(\"Alice\", \"Hi\")\n",
    "\n",
    "# Calling the function with only the 'name' parameter provided, using the default 'greeting'\n",
    "result2 = greet(\"Bob\")\n",
    "\n",
    "print(result1)  # Output: \"Hi, Alice!\"\n",
    "print(result2)  # Output: \"Hello, Bob!\""
   ]
  },
  {
   "cell_type": "markdown",
   "metadata": {},
   "source": [
    "**Exercises:**\n",
    "\n",
    "Exercise 12: In a Code cell below, write two functions:\n",
    "1. a simple function that calculates the area of a rectangle \n",
    "2. another function that calculates the area of a circle. \n",
    "\n",
    "Then, we'll call these functions with different inputs.\n",
    "\n",
    "Hint: how would you type-hint these functions? "
   ]
  },
  {
   "cell_type": "code",
   "execution_count": null,
   "metadata": {},
   "outputs": [],
   "source": []
  },
  {
   "cell_type": "markdown",
   "metadata": {},
   "source": [
    "### Installing and importing modules\n",
    "\n",
    "In Python, a module is a file containing Python definitions and statements. Modules allow you to organize your code into separate files, making it easier to manage and reuse. Python comes with a rich standard library that includes many modules for various tasks, such as working with files, handling dates and times, and performing mathematical operations. Additionally, you can install and use third-party modules to extend Python's functionality.\n",
    "\n",
    "Here's an introduction to installing and importing modules in Python:\n",
    "\n",
    "Installing Modules:\n",
    "\n",
    "**Standard Library Modules:** Python's standard library modules come pre-installed with Python. You don't need to install them separately; you can directly import and use them in your code.\n",
    "\n",
    "**Third-Party Modules:** Third-party modules are not part of the standard library and need to be installed before you can use them. You can use a package manager like `pip` to install third-party modules. For example, to install the requests module, you can run the following command in your terminal:\n",
    "\n",
    "<div style=\"background-color: rgb(50, 50, 50); padding: 15px;\">\n",
    "\n",
    "```\n",
    "pip install requests\n",
    "```\n",
    "</div>\n",
    "\n",
    "**Importing Modules:**\n",
    "\n",
    "After installing a module, you need to import it into your Python script to use its functionality. You can import the entire module or specific items (such as functions, classes, or constants) from the module.\n",
    "\n",
    "Importing the Whole Module:\n",
    "To import the entire module, you use the import keyword followed by the module's name:\n",
    "\n",
    "<div style=\"background-color: rgb(50, 50, 50); padding: 15px;\">\n",
    "\n",
    "```python\n",
    "import module_name\n",
    "```\n",
    "</div>\n",
    "\n",
    "Example:\n",
    "\n",
    "<div style=\"background-color: rgb(50, 50, 50); padding: 15px;\">\n",
    "\n",
    "```python\n",
    "import math\n",
    "```\n",
    "</div>\n",
    "\n",
    "Importing Specific Items:\n",
    "To import specific items from a module, you can use the from keyword followed by the module's name and the items you want to import:\n",
    "\n",
    "<div style=\"background-color: rgb(50, 50, 50); padding: 15px;\">\n",
    "\n",
    "```python\n",
    "from module_name import item1, item2, ...\n",
    "```\n",
    "</div>\n",
    "\n",
    "Example:\n",
    "\n",
    "<div style=\"background-color: rgb(50, 50, 50); padding: 15px;\">\n",
    "\n",
    "```python\n",
    "from math import pi, sqrt\n",
    "```\n",
    "</div>\n",
    "\n",
    "Using Imported Modules:\n",
    "\n",
    "Once you've imported a module or its specific items, you can use their functions, classes, and constants in your code.\n",
    "\n",
    "Example:\n",
    "\n",
    "<div style=\"background-color: rgb(50, 50, 50); padding: 15px;\">\n",
    "\n",
    "```python\n",
    "import math\n",
    "\n",
    "radius = 5\n",
    "circumference = 2 * math.pi * radius\n",
    "```\n",
    "</div>\n",
    "\n",
    "\n",
    "Note: When using third-party modules, make sure they are installed in the same environment where your Python script runs.\n",
    "\n",
    "In summary, modules are an essential part of Python that allow you to organize and extend your code's functionality. By installing and importing modules, you can easily leverage existing code and build more powerful and efficient programs.\n"
   ]
  },
  {
   "cell_type": "markdown",
   "metadata": {},
   "source": [
    "**Exercises:**\n",
    "\n",
    "<div style=\"background-color: black; padding: 15px;\">\n",
    "\n",
    "Exercise 13: In a Code cell below install the `requests` module using `pip` -- you may have to add an exclaimation mark at the front (`!pip install ...`) for it to be called within a notebook.\n",
    "\n",
    "Exercise 14: In a seperate Code cell, call the `requests.get()` function to call the website `https://www.uoguelph.ca/` -- assign the results to a variable called `response`. What is in the response variable? \n",
    "</div>\n"
   ]
  },
  {
   "cell_type": "markdown",
   "metadata": {},
   "source": [
    "A note on **\"coding style\"** From [Software Carpentry](http://swcarpentry.github.io/python-novice-gapminder/18-style.html): \n",
    "\n",
    "> A consistent coding style helps others (including our future selves) read and understand code more easily. Code is read much more often than it is written, and as the Zen of Python states, “Readability counts”. Python proposed a standard style through one of its first Python Enhancement Proposals (PEP), PEP8.\n",
    "\n",
    "- Document your code and ensure that assumptions, internal algorithms, expected inputs, expected outputs, etc., are clear\n",
    "use clear, semantically meaningful variable names\n",
    "- Use white-space (spaces), not tabs, to indent lines (tabs can cause problems across different text editors, operating systems, and version control systems)\n",
    "\n",
    "BUT don't stress too much about coding style. Instead, use a linter!\n",
    "- [Black](https://github.com/ambv/black) - Formats Python code without compromise\n",
    "- [Isort](https://github.com/timothycrosley/isort) - Formats imports by sorting alphabetically and separating into sections\n",
    "- [MyPy](http://mypy-lang.org/) - Checks for optionally-enforced static types\n",
    "\n"
   ]
  }
 ],
 "metadata": {
  "kernelspec": {
   "display_name": "Python 3",
   "language": "python",
   "name": "python3"
  },
  "language_info": {
   "codemirror_mode": {
    "name": "ipython",
    "version": 3
   },
   "file_extension": ".py",
   "mimetype": "text/x-python",
   "name": "python",
   "nbconvert_exporter": "python",
   "pygments_lexer": "ipython3",
   "version": "3.11.8"
  },
  "orig_nbformat": 4
 },
 "nbformat": 4,
 "nbformat_minor": 2
}
