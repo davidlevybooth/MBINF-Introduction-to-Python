{
 "cells": [
  {
   "cell_type": "markdown",
   "metadata": {},
   "source": [
    "## Part 2. Introduction to Pandas for Data Science"
   ]
  },
  {
   "cell_type": "markdown",
   "metadata": {},
   "source": [
    "### Introduction to the Pandas DataFrame\n",
    "\n",
    "NOTE: This section requires fundemental knowledge of Python. Please review Part 1 before attempting. \n",
    "\n",
    "Pandas is a popular Python library widely used in data science for data manipulation, analysis, and exploration. It provides powerful tools for working with structured data, primarily in the form of two main data structures: Series and DataFrames. In this introduction, I'll focus on DataFrames and their components.\n",
    "\n",
    "<div style=\"background-color: black; padding: 15px;\">\n",
    "\n",
    "> \"Pandas\" is derived from the term \"panel data\", an econometrics term for data sets that include observations over multiple time periods for the same individuals. — Wikipedia\n",
    "\n",
    "</div>\n",
    "\n",
    "**DataFrames in Pandas:**\n",
    "\n",
    "A DataFrame is a 2-dimensional labeled data structure with columns that can hold different data types. It is similar to a spreadsheet or a SQL table. DataFrames are incredibly versatile and are used to store, manipulate, and analyze tabular data.\n",
    "\n",
    "**Components of a DataFrame:**\n",
    "- **Columns:** Columns represent the variables or attributes of the dataset. Each column can hold a specific type of data, such as numbers, strings, or dates.\n",
    "- **Rows (Index):** Rows represent individual observations or records in the dataset. Each row is identified by an index, which can be an integer or a label.\n",
    "- **Index:** The index is a unique identifier for each row in the DataFrame. It helps you access and reference rows using labels or positions.\n",
    "- **Values:** The actual data values are stored in a 2-dimensional array-like structure. Each column contains data of **the same type**.\n",
    "\n"
   ]
  },
  {
   "cell_type": "code",
   "execution_count": null,
   "metadata": {},
   "outputs": [],
   "source": []
  }
 ],
 "metadata": {
  "kernelspec": {
   "display_name": "Python 3",
   "language": "python",
   "name": "python3"
  },
  "language_info": {
   "codemirror_mode": {
    "name": "ipython",
    "version": 3
   },
   "file_extension": ".py",
   "mimetype": "text/x-python",
   "name": "python",
   "nbconvert_exporter": "python",
   "pygments_lexer": "ipython3",
   "version": "3.10.10"
  },
  "orig_nbformat": 4
 },
 "nbformat": 4,
 "nbformat_minor": 2
}
